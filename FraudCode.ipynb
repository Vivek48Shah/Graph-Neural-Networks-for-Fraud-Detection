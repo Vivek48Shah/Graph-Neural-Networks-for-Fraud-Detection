{
 "cells": [
  {
   "cell_type": "code",
   "execution_count": 3,
   "metadata": {},
   "outputs": [],
   "source": [
    "import pandas as pd\n",
    "import numpy as np\n",
    "import torch\n",
    "import torch_geometric\n",
    "import torch_scatter\n",
    "import torch_sparse\n",
    "import torch_cluster\n",
    "import torch_spline_conv\n"
   ]
  },
  {
   "cell_type": "markdown",
   "metadata": {},
   "source": [
    "### Data Load"
   ]
  },
  {
   "cell_type": "code",
   "execution_count": 4,
   "metadata": {},
   "outputs": [],
   "source": [
    "df=pd.read_csv('fraud_payment_data.csv')"
   ]
  },
  {
   "cell_type": "code",
   "execution_count": 5,
   "metadata": {},
   "outputs": [
    {
     "name": "stdout",
     "output_type": "stream",
     "text": [
      "First few rows of the dataset:\n",
      "             Time_step       Transaction_Id          Sender_Id Sender_Account  \\\n",
      "0  2022-03-15 10:24:00       EXCHANGE-10115  JPMC-CLIENT-10098  ACCOUNT-10108   \n",
      "1  2022-03-15 10:24:00  QUICK-PAYMENT-10116  JPMC-CLIENT-10098  ACCOUNT-10109   \n",
      "2  2022-03-15 10:24:00    DEPOSIT-CASH-9833                NaN            NaN   \n",
      "3  2022-03-15 10:24:00       PAY-CHECK-9832   JPMC-CLIENT-9812   ACCOUNT-9825   \n",
      "4  2022-03-15 10:24:00   DEPOSIT-CHECK-9806                NaN            NaN   \n",
      "\n",
      "  Sender_Country  Sender_Sector Sender_lob           Bene_Id   Bene_Account  \\\n",
      "0            USA        35537.0        CCB               NaN            NaN   \n",
      "1            USA        15287.0        CCB      CLIENT-10100  ACCOUNT-10106   \n",
      "2            NaN            NaN        NaN  JPMC-CLIENT-9812   ACCOUNT-9826   \n",
      "3            USA        38145.0        CCB  JPMC-CLIENT-9814   ACCOUNT-9824   \n",
      "4            NaN            NaN        NaN  JPMC-CLIENT-9789   ACCOUNT-9800   \n",
      "\n",
      "  Bene_Country  USD_amount  Label Transaction_Type  \n",
      "0          NaN      558.43      0       WITHDRAWAL  \n",
      "1       CANADA      622.78      0    QUICK-PAYMENT  \n",
      "2          USA      802.54      0     DEPOSIT-CASH  \n",
      "3          USA      989.09      0        PAY-CHECK  \n",
      "4          USA      786.78      0    DEPOSIT-CHECK  \n",
      "\n",
      "Dataset Information:\n",
      "<class 'pandas.core.frame.DataFrame'>\n",
      "RangeIndex: 1498177 entries, 0 to 1498176\n",
      "Data columns (total 13 columns):\n",
      " #   Column            Non-Null Count    Dtype  \n",
      "---  ------            --------------    -----  \n",
      " 0   Time_step         1498177 non-null  object \n",
      " 1   Transaction_Id    1498177 non-null  object \n",
      " 2   Sender_Id         1279291 non-null  object \n",
      " 3   Sender_Account    1279291 non-null  object \n",
      " 4   Sender_Country    1279291 non-null  object \n",
      " 5   Sender_Sector     1279291 non-null  float64\n",
      " 6   Sender_lob        1279291 non-null  object \n",
      " 7   Bene_Id           1282284 non-null  object \n",
      " 8   Bene_Account      1282284 non-null  object \n",
      " 9   Bene_Country      1282284 non-null  object \n",
      " 10  USD_amount        1498177 non-null  float64\n",
      " 11  Label             1498177 non-null  int64  \n",
      " 12  Transaction_Type  1498177 non-null  object \n",
      "dtypes: float64(2), int64(1), object(10)\n",
      "memory usage: 148.6+ MB\n",
      "None\n",
      "\n",
      "Missing Values:\n",
      "Time_step                0\n",
      "Transaction_Id           0\n",
      "Sender_Id           218886\n",
      "Sender_Account      218886\n",
      "Sender_Country      218886\n",
      "Sender_Sector       218886\n",
      "Sender_lob          218886\n",
      "Bene_Id             215893\n",
      "Bene_Account        215893\n",
      "Bene_Country        215893\n",
      "USD_amount               0\n",
      "Label                    0\n",
      "Transaction_Type         0\n",
      "dtype: int64\n",
      "\n",
      "Number of Duplicate Rows:\n",
      "0\n",
      "\n",
      "Basic Statistics:\n",
      "       Sender_Sector    USD_amount         Label\n",
      "count   1.279291e+06  1.498177e+06  1.498177e+06\n",
      "mean    2.502133e+04  5.134698e+02  2.057100e-02\n",
      "std     1.443171e+04  5.398089e+02  1.419431e-01\n",
      "min     0.000000e+00  0.000000e+00  0.000000e+00\n",
      "25%     1.253400e+04  1.386900e+02  0.000000e+00\n",
      "50%     2.502300e+04  4.041600e+02  0.000000e+00\n",
      "75%     3.753050e+04  7.340700e+02  0.000000e+00\n",
      "max     4.999900e+04  1.999894e+04  1.000000e+00\n",
      "\n",
      "Unique Values in Categorical Columns:\n",
      "Time_step: 639300 unique values\n",
      "Transaction_Id: 1498177 unique values\n",
      "Sender_Id: 59071 unique values\n",
      "Sender_Account: 75161 unique values\n",
      "Sender_Country: 252 unique values\n",
      "Sender_lob: 1 unique values\n",
      "Bene_Id: 279357 unique values\n",
      "Bene_Account: 295031 unique values\n",
      "Bene_Country: 252 unique values\n",
      "Transaction_Type: 8 unique values\n"
     ]
    }
   ],
   "source": [
    "# Display the first few rows\n",
    "print(\"First few rows of the dataset:\")\n",
    "print(df.head())\n",
    "\n",
    "# Display dataset information\n",
    "print(\"\\nDataset Information:\")\n",
    "print(df.info())\n",
    "\n",
    "# Check for missing values\n",
    "print(\"\\nMissing Values:\")\n",
    "print(df.isnull().sum())\n",
    "\n",
    "# Check for duplicates\n",
    "print(\"\\nNumber of Duplicate Rows:\")\n",
    "print(df.duplicated().sum())\n",
    "\n",
    "# Display basic statistics for numerical columns\n",
    "print(\"\\nBasic Statistics:\")\n",
    "print(df.describe())\n",
    "\n",
    "# Display unique values count for categorical columns\n",
    "categorical_columns = df.select_dtypes(include=['object']).columns\n",
    "print(\"\\nUnique Values in Categorical Columns:\")\n",
    "for col in categorical_columns:\n",
    "    print(f\"{col}: {df[col].nunique()} unique values\")"
   ]
  },
  {
   "cell_type": "code",
   "execution_count": null,
   "metadata": {},
   "outputs": [
    {
     "name": "stdout",
     "output_type": "stream",
     "text": [
      "Missing values after cleaning:\n",
      "Time_step           0\n",
      "Transaction_Id      0\n",
      "Sender_Id           0\n",
      "Sender_Account      0\n",
      "Sender_Country      0\n",
      "Sender_Sector       0\n",
      "Sender_lob          0\n",
      "Bene_Id             0\n",
      "Bene_Account        0\n",
      "Bene_Country        0\n",
      "USD_amount          0\n",
      "Label               0\n",
      "Transaction_Type    0\n",
      "dtype: int64\n"
     ]
    }
   ],
   "source": [
    "# Drop rows where Sender_Id or Bene_Id is missing \n",
    "df_cleaned = df.dropna(subset=['Sender_Id', 'Bene_Id'])\n",
    "\n",
    "# Filling missing categorical values with \"Unknown\"\n",
    "categorical_cols = ['Sender_Account', 'Sender_Country', 'Sender_lob', \n",
    "                    'Bene_Account', 'Bene_Country']\n",
    "df_cleaned.loc[:, categorical_cols] = df_cleaned[categorical_cols].fillna(\"Unknown\")\n",
    "\n",
    "# Filling missing numerical values with the median\n",
    "df_cleaned.loc[:, 'Sender_Sector'] = df_cleaned.loc[:, 'Sender_Sector'].fillna(df_cleaned['Sender_Sector'].median())\n",
    "\n",
    "# Check again for missing values\n",
    "print(\"Missing values after cleaning:\")\n",
    "print(df_cleaned.isnull().sum())\n"
   ]
  },
  {
   "cell_type": "code",
   "execution_count": 87,
   "metadata": {},
   "outputs": [
    {
     "data": {
      "image/png": "[encoded data removed]",
      "text/plain": [
       "<Figure size 600x400 with 1 Axes>"
      ]
     },
     "metadata": {},
     "output_type": "display_data"
    }
   ],
   "source": [
    "# Calculate the percentage of fraud and non-fraud transactions\n",
    "fraud_percentage = df_cleaned['Label'].value_counts(normalize=True) * 100\n",
    "\n",
    "# Prepare the data for plotting\n",
    "fraud_percentage_df = fraud_percentage.reset_index()\n",
    "fraud_percentage_df.columns = ['Is Fraud', 'Percentage']\n",
    "\n",
    "# Plot the percentage of fraud and non-fraud transactions\n",
    "plt.figure(figsize=(6, 4))\n",
    "sns.barplot(data=fraud_percentage_df, x='Is Fraud', y='Percentage', palette='coolwarm', hue='Is Fraud', dodge=False, legend=False)\n",
    "plt.title(\"Percentage of Fraudulent vs Non-Fraudulent Transactions\")\n",
    "plt.xlabel(\"Is Fraud\")\n",
    "plt.ylabel(\"Percentage\")\n",
    "plt.show()"
   ]
  },
  {
   "cell_type": "code",
   "execution_count": 34,
   "metadata": {},
   "outputs": [
    {
     "data": {
      "image/png": "[encoded data removed]",
      "text/plain": [
       "<Figure size 1200x800 with 2 Axes>"
      ]
     },
     "metadata": {},
     "output_type": "display_data"
    }
   ],
   "source": [
    "# Exclude non-numeric columns\n",
    "df_numeric = df_cleaned.select_dtypes(include=[np.number])\n",
    "\n",
    "# Generate the feature correlation heatmap\n",
    "plt.figure(figsize=(12, 8))\n",
    "sns.heatmap(df_numeric.corr(), annot=True, cmap='coolwarm', fmt='.2f', linewidths=0.5)\n",
    "plt.title(\"Feature Correlation Heatmap\")\n",
    "plt.show()"
   ]
  },
  {
   "cell_type": "code",
   "execution_count": 40,
   "metadata": {},
   "outputs": [
    {
     "data": {
      "image/png": "[encoded data removed]",
      "text/plain": [
       "<Figure size 1200x800 with 1 Axes>"
      ]
     },
     "metadata": {},
     "output_type": "display_data"
    }
   ],
   "source": [
    "plt.figure(figsize=(12, 8))\n",
    "\n",
    "# Plot non-fraud transactions\n",
    "sns.histplot(df_cleaned[df_cleaned['Label'] == 0]['USD_amount'], bins=50, color='blue', label='Non-Fraud', kde=True, stat=\"density\", common_norm=False)\n",
    "\n",
    "# Plot fraud transactions\n",
    "sns.histplot(df_cleaned[df_cleaned['Label'] == 1]['USD_amount'], bins=50, color='red', label='Fraud', kde=True, stat=\"density\", common_norm=False)\n",
    "\n",
    "# Log scale for better visualization\n",
    "plt.yscale('log')\n",
    "plt.xlabel(\"Transaction Amount (USD)\", fontsize=14)\n",
    "plt.ylabel(\"Density (Log Scale)\", fontsize=14)\n",
    "plt.title(\"Transaction Amount Distribution: Fraud vs. Non-Fraud\", fontsize=16)\n",
    "plt.legend(title=\"Transaction Type\")\n",
    "plt.grid(True, which=\"both\", ls=\"--\", linewidth=0.5)\n",
    "plt.show()"
   ]
  },
  {
   "cell_type": "markdown",
   "metadata": {},
   "source": [
    "### Graph Builder"
   ]
  },
  {
   "cell_type": "code",
   "execution_count": 41,
   "metadata": {},
   "outputs": [
    {
     "name": "stdout",
     "output_type": "stream",
     "text": [
      "Number of nodes (unique senders + beneficiaries): 288017\n",
      "Number of edges (transactions): 319203\n",
      "Graph saved successfully as fraud_graph.pkl\n"
     ]
    }
   ],
   "source": [
    "import networkx as nx\n",
    "import pickle\n",
    "\n",
    "# Create a directed graph\n",
    "G = nx.DiGraph()\n",
    "\n",
    "# Add edges (transactions) between sender and beneficiary\n",
    "for _, row in df_cleaned.iterrows():\n",
    "    G.add_edge(row['Sender_Id'], row['Bene_Id'], \n",
    "               transaction_id=row['Transaction_Id'],\n",
    "               amount=row['USD_amount'],\n",
    "               transaction_type=row['Transaction_Type'],\n",
    "               time_step=row['Time_step'],\n",
    "               label=row['Label'])\n",
    "\n",
    "\n",
    "\n",
    "# Print graph information\n",
    "print(f\"Number of nodes (unique senders + beneficiaries): {G.number_of_nodes()}\")\n",
    "print(f\"Number of edges (transactions): {G.number_of_edges()}\")\n",
    "\n",
    "# Save the graph using pickle\n",
    "with open(\"fraud_graph.pkl\", \"wb\") as f:\n",
    "    pickle.dump(G, f)\n",
    "\n",
    "print(\"Graph saved successfully as fraud_graph.pkl\")\n"
   ]
  },
  {
   "cell_type": "markdown",
   "metadata": {},
   "source": [
    "### Feature Engineering"
   ]
  },
  {
   "cell_type": "markdown",
   "metadata": {},
   "source": [
    "##### 1. In-Degree & Out-Degree\n",
    "\n",
    "These features capture the number of incoming and outgoing transactions for each node (account/user).\n",
    "\t•\tIn-Degree (in_degree): The number of incoming transactions to a node.\n",
    "\t•\tA high value may indicate a receiver receiving funds from multiple sources (potential fraud).\n",
    "\t•\tOut-Degree (out_degree): The number of outgoing transactions from a node.\n",
    "\t•\tHigh values may indicate a user distributing money to many accounts, potentially a fraudster dispersing illicit funds.\n",
    "\n",
    "##### 2. PageRank Score\n",
    "\n",
    "PageRank measures the importance of a node in the network.\n",
    "\t•\tPageRank (pagerank): Higher values indicate nodes that receive transactions from many well-connected users.\n",
    "\t•\tFraudsters may have low PageRank (isolated accounts) or high PageRank (if controlling large transaction flows).\n",
    "\n",
    "##### 3. Betweenness Centrality\n",
    "\n",
    "Betweenness Centrality captures how often a node acts as a bridge in the transaction network.\n",
    "\t•\tBetweenness Centrality (betweenness): Measures a node’s importance in connecting different parts of the network.\n",
    "\t•\tFraudsters might have high betweenness if they act as intermediaries in money laundering schemes.\n",
    "\t•\tGenuine users generally have low betweenness, following typical transaction patterns.\n",
    "\n",
    "##### 4. Transaction Amount Statistics\n",
    "\n",
    "These features analyze the distribution of transaction amounts per node.\n",
    "\t•\tMean Transaction Amount (mean_amount): The average transaction value of a node.\n",
    "\t•\tFraudulent accounts often have extreme values (either very small or very large).\n",
    "\t•\tStandard Deviation of Transaction Amount (std_amount): Measures the variation in transaction amounts.\n",
    "\t•\tHigh variability might indicate inconsistent and suspicious transaction patterns.\n",
    "\n",
    "##### 5. Fraud Score\n",
    "\n",
    "The fraud score captures the number of fraudulent transactions a node is involved in.\n",
    "\t•\tFraud Score (fraud_score): The number of fraudulent transactions received by a node.\n",
    "\t•\tA high fraud score suggests the account is frequently interacting with fraudulent entities."
   ]
  },
  {
   "cell_type": "code",
   "execution_count": 8,
   "metadata": {},
   "outputs": [],
   "source": [
    "\n",
    "# Extract in-degree and out-degree\n",
    "degree_features = {\n",
    "    node: {\n",
    "        \"in_degree\": G.in_degree(node),\n",
    "        \"out_degree\": G.out_degree(node)\n",
    "    }\n",
    "    for node in G.nodes()\n",
    "}\n",
    "\n",
    "# Convert to DataFrame\n",
    "df_graph_features = pd.DataFrame.from_dict(degree_features, orient=\"index\")\n",
    "df_graph_features.index.name = \"Node\"\n",
    "\n",
    "# Compute PageRank\n",
    "pagerank = nx.pagerank(G)\n",
    "df_graph_features[\"pagerank\"] = df_graph_features.index.map(pagerank)\n",
    "\n",
    "# Compute Betweenness Centrality (Takes time for large graphs)\n",
    "betweenness = nx.betweenness_centrality(G, k=500)  # Approximate for large graphs\n",
    "df_graph_features[\"betweenness\"] = df_graph_features.index.map(betweenness)\n",
    "\n",
    "amounts = {}\n",
    "for sender, receiver, data in G.edges(data=True):\n",
    "    if sender not in amounts:\n",
    "        amounts[sender] = []\n",
    "    amounts[sender].append(data[\"amount\"])\n",
    "\n",
    "amount_stats = {\n",
    "    node: {\n",
    "        \"mean_amount\": (sum(amounts[node]) / len(amounts[node])) if node in amounts else 0,\n",
    "        \"std_amount\": (pd.Series(amounts[node]).std() if node in amounts and len(amounts[node]) > 1 else 0)\n",
    "    }\n",
    "    for node in G.nodes()\n",
    "}\n",
    "\n",
    "df_amount_stats = pd.DataFrame.from_dict(amount_stats, orient=\"index\")\n",
    "df_graph_features = df_graph_features.join(df_amount_stats)\n",
    "\n",
    "# Compute fraud score (number of fraudulent transactions per node)\n",
    "fraud_scores = {\n",
    "    node: sum(1 for _, _, d in G.in_edges(node, data=True) if d[\"label\"] == 1)\n",
    "    for node in G.nodes()\n",
    "}\n",
    "df_graph_features[\"fraud_score\"] = df_graph_features.index.map(fraud_scores)\n",
    "\n",
    "# Save graph features for GNN model\n",
    "df_graph_features.to_csv(\"graph_features_for_gnn.csv\", index=True)\n"
   ]
  },
  {
   "cell_type": "code",
   "execution_count": 9,
   "metadata": {},
   "outputs": [
    {
     "name": "stdout",
     "output_type": "stream",
     "text": [
      "Data(edge_index=[2, 319203], transaction_id=[319203], amount=[319203], transaction_type=[319203], time_step=[319203], label=[319203], x=[288017, 7])\n"
     ]
    }
   ],
   "source": [
    "import torch\n",
    "from torch_geometric.data import Data\n",
    "from torch_geometric.utils import from_networkx\n",
    "\n",
    "for node, features in df_graph_features.iterrows():\n",
    "    for feature_name, feature_value in features.items():\n",
    "        G.nodes[node][feature_name] = feature_value\n",
    "\n",
    "# Convert to PyTorch Geometric format\n",
    "graph_data = from_networkx(G, group_node_attrs=list(df_graph_features.columns))\n",
    "\n",
    "# Print graph data details\n",
    "print(graph_data)"
   ]
  },
  {
   "cell_type": "markdown",
   "metadata": {},
   "source": [
    "### Modeling"
   ]
  },
  {
   "cell_type": "markdown",
   "metadata": {},
   "source": [
    "##### GCN (Graph Convolutional Network): Aggregates features from neighboring nodes but treats all neighbors equally."
   ]
  },
  {
   "cell_type": "code",
   "execution_count": 61,
   "metadata": {},
   "outputs": [
    {
     "name": "stdout",
     "output_type": "stream",
     "text": [
      "FraudGCN(\n",
      "  (conv1): GCNConv(7, 32)\n",
      "  (conv2): GCNConv(32, 2)\n",
      ")\n"
     ]
    }
   ],
   "source": [
    "import torch.nn as nn\n",
    "import torch.nn.functional as F\n",
    "from torch_geometric.nn import GCNConv\n",
    "\n",
    "class FraudGCN(nn.Module):\n",
    "    def __init__(self, in_features, hidden_dim, out_features):\n",
    "        super(FraudGCN, self).__init__()\n",
    "        self.conv1 = GCNConv(in_features, hidden_dim)\n",
    "        self.conv2 = GCNConv(hidden_dim, out_features)\n",
    "\n",
    "    def forward(self, x, edge_index):\n",
    "        x = self.conv1(x, edge_index)\n",
    "        x = F.relu(x)\n",
    "        x = self.conv2(x, edge_index)\n",
    "        return F.log_softmax(x, dim=1)\n",
    "\n",
    "# Initialize the model with correct feature dimension\n",
    "model = FraudGCN(in_features=graph_data.num_node_features, hidden_dim=32, out_features=2)\n",
    "\n",
    "print(model)"
   ]
  },
  {
   "cell_type": "code",
   "execution_count": 62,
   "metadata": {},
   "outputs": [
    {
     "name": "stdout",
     "output_type": "stream",
     "text": [
      "Node Labels Assigned Successfully!\n",
      "Fraudulent Nodes: 7246, Total Nodes: 288017\n"
     ]
    }
   ],
   "source": [
    "import numpy as np\n",
    "\n",
    "# Initialize node labels (default to non-fraudulent 0)\n",
    "node_labels = {node: 0 for node in G.nodes()}\n",
    "\n",
    "# Assign fraud labels: If a node is involved in any fraud (Label=1), mark it as fraud\n",
    "for sender, receiver, data in G.edges(data=True):\n",
    "    if data[\"label\"] == 1:  # Fraudulent transaction\n",
    "        node_labels[sender] = 1\n",
    "        node_labels[receiver] = 1\n",
    "\n",
    "# Convert labels into tensor format\n",
    "node_label_list = [node_labels[node] for node in G.nodes()]\n",
    "y = torch.tensor(node_label_list, dtype=torch.long)\n",
    "\n",
    "print(\"Node Labels Assigned Successfully!\")\n",
    "print(f\"Fraudulent Nodes: {sum(y.numpy())}, Total Nodes: {len(y)}\")"
   ]
  },
  {
   "cell_type": "code",
   "execution_count": null,
   "metadata": {},
   "outputs": [
    {
     "data": {
      "text/plain": [
       "<torch._C.Generator at 0x12030d250>"
      ]
     },
     "execution_count": 63,
     "metadata": {},
     "output_type": "execute_result"
    }
   ],
   "source": [
    "import random \n",
    "SEED = 42  # Set seed for reproducibility\n",
    "random.seed(SEED)\n",
    "np.random.seed(SEED)\n",
    "torch.manual_seed(SEED)"
   ]
  },
  {
   "cell_type": "code",
   "execution_count": null,
   "metadata": {},
   "outputs": [
    {
     "name": "stdout",
     "output_type": "stream",
     "text": [
      "Training Nodes: 230413, Testing Nodes: 57604\n"
     ]
    }
   ],
   "source": [
    "from sklearn.model_selection import train_test_split\n",
    "\n",
    "\n",
    "num_nodes = graph_data.x.shape[0]\n",
    "\n",
    "# Ensure y matches the number of nodes\n",
    "assert len(y) == num_nodes, \"Mismatch between node count and label count!\"\n",
    "\n",
    "# Create train-test split (80-20 split)\n",
    "train_indices, test_indices = train_test_split(\n",
    "    np.arange(num_nodes), test_size=0.2, random_state=42, stratify=y.numpy()\n",
    ")\n",
    "\n",
    "# Convert to boolean mask\n",
    "train_mask = torch.zeros(num_nodes, dtype=torch.bool)\n",
    "test_mask = torch.zeros(num_nodes, dtype=torch.bool)\n",
    "train_mask[train_indices] = True\n",
    "test_mask[test_indices] = True\n",
    "\n",
    "# Move data to GPU if available\n",
    "device = torch.device(\"cuda\" if torch.cuda.is_available() else \"cpu\")\n",
    "X, y = graph_data.x.to(device), y.to(device)\n",
    "train_mask, test_mask = train_mask.to(device), test_mask.to(device)\n",
    "\n",
    "print(f\"Training Nodes: {train_mask.sum().item()}, Testing Nodes: {test_mask.sum().item()}\")"
   ]
  },
  {
   "cell_type": "code",
   "execution_count": null,
   "metadata": {},
   "outputs": [
    {
     "name": "stdout",
     "output_type": "stream",
     "text": [
      "Epoch 0, Loss: 93.57782745361328\n",
      "Epoch 10, Loss: 5.609402656555176\n",
      "Epoch 20, Loss: 1.5679869651794434\n",
      "Epoch 30, Loss: 1.8228111267089844\n",
      "Epoch 40, Loss: 1.1825915575027466\n",
      "Epoch 50, Loss: 0.9747011661529541\n",
      "Epoch 60, Loss: 0.8200784921646118\n",
      "Epoch 70, Loss: 0.646865963935852\n",
      "Epoch 80, Loss: 0.7627415657043457\n",
      "Epoch 90, Loss: 0.6824185848236084\n",
      "Epoch 100, Loss: 0.7134673595428467\n",
      "Epoch 110, Loss: 0.6224930286407471\n",
      "Epoch 120, Loss: 0.5294090509414673\n",
      "Epoch 130, Loss: 0.7052764892578125\n",
      "Epoch 140, Loss: 0.8814350962638855\n",
      "Epoch 150, Loss: 0.493413507938385\n",
      "Epoch 160, Loss: 0.47510313987731934\n",
      "Epoch 170, Loss: 0.4781036972999573\n",
      "Epoch 180, Loss: 0.4782753586769104\n",
      "Epoch 190, Loss: 0.4552902579307556\n",
      "Training Complete!\n"
     ]
    }
   ],
   "source": [
    "import torch.optim as optim\n",
    "\n",
    "# model to GPU if available\n",
    "model = model.to(device)\n",
    "# Compute class weights (Inverse frequency of labels)\n",
    "fraud_weight = len(y) / (2 * sum(y.cpu().numpy() == 1))\n",
    "normal_weight = len(y) / (2 * sum(y.cpu().numpy() == 0))\n",
    "weights = torch.tensor([normal_weight, fraud_weight], dtype=torch.float).to(device)\n",
    "\n",
    "# Update loss function with class weights\n",
    "criterion = nn.NLLLoss(weight=weights)\n",
    "optimizer = optim.Adam(model.parameters(), lr=0.01, weight_decay=5e-4)\n",
    "\n",
    "# Train the model\n",
    "num_epochs = 200\n",
    "model.train()\n",
    "for epoch in range(num_epochs):\n",
    "    optimizer.zero_grad()\n",
    "    \n",
    "    # Forward pass\n",
    "    out = model(X, graph_data.edge_index)\n",
    "    \n",
    "    # Compute loss on training nodes only\n",
    "    loss = criterion(out[train_mask], y[train_mask])\n",
    "    \n",
    "    # Backpropagation\n",
    "    loss.backward()\n",
    "    optimizer.step()\n",
    "    \n",
    "    if epoch % 10 == 0:\n",
    "        print(f\"Epoch {epoch}, Loss: {loss.item()}\")\n",
    "\n",
    "print(\"Training Complete!\")"
   ]
  },
  {
   "cell_type": "code",
   "execution_count": 66,
   "metadata": {},
   "outputs": [
    {
     "name": "stdout",
     "output_type": "stream",
     "text": [
      "\n",
      "Classification Report:\n",
      "              precision    recall  f1-score   support\n",
      "\n",
      "           0       0.99      0.92      0.95     56155\n",
      "           1       0.16      0.64      0.26      1449\n",
      "\n",
      "    accuracy                           0.91     57604\n",
      "   macro avg       0.58      0.78      0.61     57604\n",
      "weighted avg       0.97      0.91      0.93     57604\n",
      "\n",
      "\n",
      "AUC-ROC Score: 0.9207225035654112\n"
     ]
    }
   ],
   "source": [
    "from sklearn.metrics import classification_report, roc_auc_score\n",
    "\n",
    "model.eval()\n",
    "with torch.no_grad():\n",
    "    predictions = model(X, graph_data.edge_index).argmax(dim=1)\n",
    "\n",
    "# Extract test predictions\n",
    "y_test_pred = predictions[test_mask]\n",
    "y_test_true = y[test_mask].cpu().numpy()\n",
    "y_test_pred = y_test_pred.cpu().numpy()\n",
    "\n",
    "# Compute evaluation metrics\n",
    "print(\"\\nClassification Report:\")\n",
    "print(classification_report(y_test_true, y_test_pred))\n",
    "\n",
    "# Compute AUC-ROC score\n",
    "y_test_proba = model(X, graph_data.edge_index)[test_mask][:, 1].exp().detach().cpu().numpy()\n",
    "print(\"\\nAUC-ROC Score:\", roc_auc_score(y_test_true, y_test_proba))"
   ]
  },
  {
   "cell_type": "markdown",
   "metadata": {},
   "source": [
    "##### GAT (Graph Attention Network): Uses attention to assign different importance to neighbors, improving performance."
   ]
  },
  {
   "cell_type": "code",
   "execution_count": null,
   "metadata": {},
   "outputs": [
    {
     "data": {
      "text/plain": [
       "<torch._C.Generator at 0x12030d250>"
      ]
     },
     "execution_count": 75,
     "metadata": {},
     "output_type": "execute_result"
    }
   ],
   "source": [
    "SEED = 42  \n",
    "random.seed(SEED)\n",
    "np.random.seed(SEED)\n",
    "torch.manual_seed(SEED)"
   ]
  },
  {
   "cell_type": "code",
   "execution_count": 76,
   "metadata": {},
   "outputs": [],
   "source": [
    "from torch_geometric.nn import GATConv\n",
    "\n",
    "class FraudGAT(nn.Module):\n",
    "    def __init__(self, in_features, hidden_dim, out_features, heads=4):\n",
    "        super(FraudGAT, self).__init__()\n",
    "        self.conv1 = GATConv(in_features, hidden_dim, heads=heads, concat=True)\n",
    "        self.conv2 = GATConv(hidden_dim * heads, out_features, heads=1, concat=False)\n",
    "\n",
    "    def forward(self, x, edge_index):\n",
    "        x = self.conv1(x, edge_index)\n",
    "        x = F.elu(x)\n",
    "        x = self.conv2(x, edge_index)\n",
    "        return F.log_softmax(x, dim=1)\n",
    "\n",
    "# Initialize GAT model\n",
    "Gatmodel = FraudGAT(in_features=graph_data.num_node_features, hidden_dim=32, out_features=2).to(device)"
   ]
  },
  {
   "cell_type": "code",
   "execution_count": null,
   "metadata": {},
   "outputs": [
    {
     "name": "stdout",
     "output_type": "stream",
     "text": [
      "Epoch 0, Loss: 187.38449096679688\n",
      "Epoch 10, Loss: 18.783374786376953\n",
      "Epoch 20, Loss: 7.81110954284668\n",
      "Epoch 30, Loss: 5.2938666343688965\n",
      "Epoch 40, Loss: 4.893676280975342\n",
      "Epoch 50, Loss: 2.654440402984619\n",
      "Epoch 60, Loss: 2.1111629009246826\n",
      "Epoch 70, Loss: 0.8588579297065735\n",
      "Epoch 80, Loss: 0.460626482963562\n",
      "Epoch 90, Loss: 0.5502326488494873\n",
      "Epoch 100, Loss: 0.3083428144454956\n",
      "Epoch 110, Loss: 0.23085801303386688\n",
      "Epoch 120, Loss: 0.25278806686401367\n",
      "Epoch 130, Loss: 0.3355812430381775\n",
      "Epoch 140, Loss: 0.2250116616487503\n",
      "Epoch 150, Loss: 0.22721369564533234\n",
      "Epoch 160, Loss: 0.24717727303504944\n",
      "Epoch 170, Loss: 0.2146998941898346\n",
      "Epoch 180, Loss: 0.21016022562980652\n",
      "Epoch 190, Loss: 0.23857757449150085\n",
      "Training Complete!\n"
     ]
    }
   ],
   "source": [
    "\n",
    "weights = torch.tensor([normal_weight, fraud_weight], dtype=torch.float).to(device)\n",
    "\n",
    "# Update loss function with class weights\n",
    "criterion = nn.NLLLoss(weight=weights)\n",
    "optimizer = optim.Adam(Gatmodel.parameters(), lr=0.01, weight_decay=5e-4)\n",
    "\n",
    "\n",
    "# Train the model\n",
    "num_epochs = 200\n",
    "Gatmodel.train()\n",
    "for epoch in range(num_epochs):\n",
    "    optimizer.zero_grad()\n",
    "    \n",
    "    # Forward pass\n",
    "    out = Gatmodel(X, graph_data.edge_index)\n",
    "    \n",
    "    # Compute loss on training nodes only\n",
    "    loss = criterion(out[train_mask], y[train_mask])\n",
    "    \n",
    "    # Backpropagation\n",
    "    loss.backward()\n",
    "    optimizer.step()\n",
    "    \n",
    "    if epoch % 10 == 0:\n",
    "        print(f\"Epoch {epoch}, Loss: {loss.item()}\")\n",
    "\n",
    "print(\"Training Complete!\")"
   ]
  },
  {
   "cell_type": "code",
   "execution_count": 78,
   "metadata": {},
   "outputs": [
    {
     "name": "stdout",
     "output_type": "stream",
     "text": [
      "\n",
      "Classification Report:\n",
      "              precision    recall  f1-score   support\n",
      "\n",
      "           0       1.00      0.89      0.94     56155\n",
      "           1       0.19      0.97      0.32      1449\n",
      "\n",
      "    accuracy                           0.90     57604\n",
      "   macro avg       0.59      0.93      0.63     57604\n",
      "weighted avg       0.98      0.90      0.93     57604\n",
      "\n",
      "\n",
      "AUC-ROC Score: 0.9789820937672574\n"
     ]
    }
   ],
   "source": [
    "Gatmodel.eval()\n",
    "with torch.no_grad():\n",
    "    predictions = Gatmodel(X, graph_data.edge_index).argmax(dim=1)\n",
    "\n",
    "# Extract test predictions\n",
    "y_test_pred = predictions[test_mask]\n",
    "y_test_true = y[test_mask].cpu().numpy()\n",
    "y_test_pred = y_test_pred.cpu().numpy()\n",
    "\n",
    "# Compute evaluation metrics\n",
    "print(\"\\nClassification Report:\")\n",
    "print(classification_report(y_test_true, y_test_pred))\n",
    "\n",
    "# Compute AUC-ROC score\n",
    "y_test_proba = Gatmodel(X, graph_data.edge_index)[test_mask][:, 1].exp().detach().cpu().numpy()\n",
    "print(\"\\nAUC-ROC Score:\", roc_auc_score(y_test_true, y_test_proba))"
   ]
  },
  {
   "cell_type": "markdown",
   "metadata": {},
   "source": [
    "### More complex structure to learn more features but lead to overfitting "
   ]
  },
  {
   "cell_type": "code",
   "execution_count": 18,
   "metadata": {},
   "outputs": [],
   "source": [
    "from torch_geometric.nn import GATConv\n",
    "\n",
    "class DeepGAT(nn.Module):\n",
    "    def __init__(self, in_features, hidden_dim, out_features, heads=3, num_layers=3, dropout=0.5):\n",
    "        super(DeepGAT, self).__init__()\n",
    "        self.convs = nn.ModuleList()\n",
    "        \n",
    "        # First GAT layer\n",
    "        self.convs.append(GATConv(in_features, hidden_dim, heads=heads, concat=True))\n",
    "        \n",
    "        # Intermediate GAT layers\n",
    "        for _ in range(num_layers - 2):\n",
    "            self.convs.append(GATConv(hidden_dim * heads, hidden_dim, heads=heads, concat=True))\n",
    "        \n",
    "        # Final GAT layer (heads=1, concat=False for 2-class output)\n",
    "        self.convs.append(GATConv(hidden_dim * heads, out_features, heads=1, concat=False))\n",
    "        \n",
    "        self.dropout = dropout\n",
    "\n",
    "    def forward(self, x, edge_index):\n",
    "        for i, conv in enumerate(self.convs[:-1]):\n",
    "            x = conv(x, edge_index)\n",
    "            x = F.elu(x)\n",
    "            x = F.dropout(x, p=self.dropout, training=self.training)\n",
    "        x = self.convs[-1](x, edge_index)\n",
    "        return F.log_softmax(x, dim=1)"
   ]
  },
  {
   "cell_type": "code",
   "execution_count": 19,
   "metadata": {},
   "outputs": [],
   "source": [
    "DeepGATModel = DeepGAT(in_features=graph_data.num_node_features, hidden_dim=32, out_features=2).to(device)"
   ]
  },
  {
   "cell_type": "code",
   "execution_count": 20,
   "metadata": {},
   "outputs": [
    {
     "name": "stdout",
     "output_type": "stream",
     "text": [
      "Epoch 0, Loss: 159.06240844726562\n",
      "Epoch 10, Loss: 7.88917875289917\n",
      "Epoch 20, Loss: 2.1641170978546143\n",
      "Epoch 30, Loss: 1.114905834197998\n",
      "Epoch 40, Loss: 0.7169594168663025\n",
      "Epoch 50, Loss: 0.5263640284538269\n",
      "Epoch 60, Loss: 0.40501868724823\n",
      "Epoch 70, Loss: 0.35958367586135864\n",
      "Epoch 80, Loss: 0.3217070996761322\n",
      "Epoch 90, Loss: 0.31498077511787415\n",
      "Training Complete!\n"
     ]
    }
   ],
   "source": [
    "fraud_weight = len(y) / (2 * sum(y.cpu().numpy() == 1))\n",
    "normal_weight = len(y) / (2 * sum(y.cpu().numpy() == 0))\n",
    "weights = torch.tensor([normal_weight, fraud_weight], dtype=torch.float).to(device)\n",
    "\n",
    "# Update loss function with class weights\n",
    "criterion = nn.NLLLoss(weight=weights)\n",
    "optimizer = optim.Adam(DeepGATModel.parameters(), lr=0.01, weight_decay=5e-4)\n",
    "\n",
    "\n",
    "\n",
    "\n",
    "# Train the model\n",
    "num_epochs = 100\n",
    "DeepGATModel.train()\n",
    "for epoch in range(num_epochs):\n",
    "    optimizer.zero_grad()\n",
    "    \n",
    "    # Forward pass\n",
    "    out = DeepGATModel(X, graph_data.edge_index)\n",
    "    \n",
    "    # Compute loss on training nodes only\n",
    "    loss = criterion(out[train_mask], y[train_mask])\n",
    "    \n",
    "    # Backpropagation\n",
    "    loss.backward()\n",
    "    optimizer.step()\n",
    "    \n",
    "    if epoch % 10 == 0:\n",
    "        print(f\"Epoch {epoch}, Loss: {loss.item()}\")\n",
    "\n",
    "print(\"Training Complete!\")"
   ]
  },
  {
   "cell_type": "code",
   "execution_count": 21,
   "metadata": {},
   "outputs": [
    {
     "name": "stdout",
     "output_type": "stream",
     "text": [
      "\n",
      "Classification Report:\n",
      "              precision    recall  f1-score   support\n",
      "\n",
      "           0       1.00      0.84      0.91     56155\n",
      "           1       0.14      1.00      0.24      1449\n",
      "\n",
      "    accuracy                           0.84     57604\n",
      "   macro avg       0.57      0.92      0.58     57604\n",
      "weighted avg       0.98      0.84      0.89     57604\n",
      "\n",
      "\n",
      "AUC-ROC Score: 0.9529951758414902\n"
     ]
    }
   ],
   "source": [
    "DeepGATModel.eval()\n",
    "with torch.no_grad():\n",
    "    predictions = DeepGATModel(X, graph_data.edge_index).argmax(dim=1)\n",
    "\n",
    "# Extract test predictions\n",
    "y_test_pred = predictions[test_mask]\n",
    "y_test_true = y[test_mask].cpu().numpy()\n",
    "y_test_pred = y_test_pred.cpu().numpy()\n",
    "\n",
    "# Compute evaluation metrics\n",
    "print(\"\\nClassification Report:\")\n",
    "print(classification_report(y_test_true, y_test_pred))\n",
    "\n",
    "# Compute AUC-ROC score\n",
    "y_test_proba = DeepGATModel(X, graph_data.edge_index)[test_mask][:, 1].exp().detach().cpu().numpy()\n",
    "print(\"\\nAUC-ROC Score:\", roc_auc_score(y_test_true, y_test_proba))"
   ]
  }
 ],
 "metadata": {
  "kernelspec": {
   "display_name": "fraud",
   "language": "python",
   "name": "python3"
  },
  "language_info": {
   "codemirror_mode": {
    "name": "ipython",
    "version": 3
   },
   "file_extension": ".py",
   "mimetype": "text/x-python",
   "name": "python",
   "nbconvert_exporter": "python",
   "pygments_lexer": "ipython3",
   "version": "3.10.11"
  }
 },
 "nbformat": 4,
 "nbformat_minor": 2
}
